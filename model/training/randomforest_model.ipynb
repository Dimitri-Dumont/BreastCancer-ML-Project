{
 "cells": [
  {
   "cell_type": "code",
   "execution_count": 21,
   "id": "1ec4c426",
   "metadata": {},
   "outputs": [
    {
     "name": "stdout",
     "output_type": "stream",
     "text": [
      "                                                                                                                                                                image file path  \\\n",
      "0    Mass-Training_P_00001_LEFT_CC/1.3.6.1.4.1.9590.100.1.2.422112722213189649807611434612228974994/1.3.6.1.4.1.9590.100.1.2.342386194811267636608694132590482924515/000000.dcm   \n",
      "1   Mass-Training_P_00001_LEFT_MLO/1.3.6.1.4.1.9590.100.1.2.319478999311971442426185353560182990988/1.3.6.1.4.1.9590.100.1.2.359308329312397897125630708681441180834/000000.dcm   \n",
      "2     Mass-Training_P_00004_LEFT_CC/1.3.6.1.4.1.9590.100.1.2.347107867812656628709864319310977895697/1.3.6.1.4.1.9590.100.1.2.89180046211022531834352631483669346540/000000.dcm   \n",
      "3   Mass-Training_P_00004_LEFT_MLO/1.3.6.1.4.1.9590.100.1.2.272600286511817402806912403581910920939/1.3.6.1.4.1.9590.100.1.2.295360926313492745441868049270168300162/000000.dcm   \n",
      "4  Mass-Training_P_00004_RIGHT_MLO/1.3.6.1.4.1.9590.100.1.2.174047308712169195014610267031196524486/1.3.6.1.4.1.9590.100.1.2.410524754913057908920631336070876889890/000000.dcm   \n",
      "\n",
      "   pathology  breast_density left or right breast   mass margins  subtlety  \n",
      "0  MALIGNANT               3                 LEFT     SPICULATED         4  \n",
      "1  MALIGNANT               3                 LEFT     SPICULATED         4  \n",
      "2     BENIGN               3                 LEFT    ILL_DEFINED         3  \n",
      "3     BENIGN               3                 LEFT    ILL_DEFINED         3  \n",
      "4     BENIGN               3                RIGHT  CIRCUMSCRIBED         5  \n"
     ]
    }
   ],
   "source": [
    "import pandas as pd\n",
    "\n",
    "# Load both training and test CSV files\n",
    "mass_train = pd.read_csv(\"archive/csv/mass_case_description_train_set.csv\")\n",
    "mass_test = pd.read_csv(\"archive/csv/mass_case_description_test_set.csv\")\n",
    "\n",
    "# Combine the datasets for unified preprocessing\n",
    "mass_df = pd.concat([mass_train, mass_test], axis=0).reset_index(drop=True)\n",
    "\n",
    "# Select informative metadata features + label\n",
    "selected_columns = [\n",
    "    'image file path',        # Keep for future image vector matching\n",
    "    'pathology',              # Target label (MALIGNANT / BENIGN)\n",
    "    'breast_density',         # Numeric\n",
    "    'left or right breast',   # Categorical (L/R)\n",
    "    'mass margins',           # Categorical\n",
    "    'subtlety'                # Numeric (lower = subtle, higher = obvious)\n",
    "]\n",
    "\n",
    "# Keep only selected columns\n",
    "mass_df = mass_df[selected_columns]\n",
    "\n",
    "# Show preview\n",
    "print(mass_df.head())\n"
   ]
  },
  {
   "cell_type": "code",
   "execution_count": 22,
   "id": "cb182de8",
   "metadata": {},
   "outputs": [
    {
     "name": "stdout",
     "output_type": "stream",
     "text": [
      "Remaining samples: 1636\n"
     ]
    }
   ],
   "source": [
    "# Drop rows with missing image paths or labels, drop rows with missing tabular features\n",
    "mass_df = mass_df.dropna(subset=[\n",
    "    'image file path',\n",
    "    'pathology',\n",
    "    'breast_density',\n",
    "    'left or right breast',\n",
    "    'subtlety',\n",
    "    'mass margins',\n",
    "])\n",
    "\n",
    "print(f\"Remaining samples: {len(mass_df)}\")"
   ]
  },
  {
   "cell_type": "code",
   "execution_count": 23,
   "id": "6d420aea",
   "metadata": {},
   "outputs": [],
   "source": [
    "from sklearn.preprocessing import LabelEncoder\n",
    "\n",
    "label_encoders = {}\n",
    "categorical_cols = ['left or right breast', 'mass margins']\n",
    "\n",
    "for col in categorical_cols:\n",
    "    le = LabelEncoder()\n",
    "    mass_df[col] = le.fit_transform(mass_df[col])\n",
    "    label_encoders[col] = le  # Store encoders in case you want to inverse transform later\n",
    "\n",
    "# Step 5: Encode the target variable (pathology)\n",
    "mass_df['pathology'] = mass_df['pathology'].apply(lambda x: 1 if x == 'MALIGNANT' else 0)\n",
    "\n",
    "# mass_df['pathology'] = mass_df['pathology'].map({\n",
    "#     'MALIGNANT': 1,\n",
    "#     'BENIGN': 0,\n",
    "#     'BENIGN_WITHOUT_CALLBACK': 0\n",
    "# })"
   ]
  },
  {
   "cell_type": "code",
   "execution_count": 24,
   "id": "36d78090",
   "metadata": {},
   "outputs": [
    {
     "data": {
      "text/plain": [
       "0      Mass-Training_P_00001_LEFT_CC/1.3.6.1.4.1.9590.100.1.2.422112722213189649807611434612228974994/1.3.6.1.4.1.9590.100.1.2.342386194811267636608694132590482924515/000000.dcm\n",
       "1     Mass-Training_P_00001_LEFT_MLO/1.3.6.1.4.1.9590.100.1.2.319478999311971442426185353560182990988/1.3.6.1.4.1.9590.100.1.2.359308329312397897125630708681441180834/000000.dcm\n",
       "2       Mass-Training_P_00004_LEFT_CC/1.3.6.1.4.1.9590.100.1.2.347107867812656628709864319310977895697/1.3.6.1.4.1.9590.100.1.2.89180046211022531834352631483669346540/000000.dcm\n",
       "3     Mass-Training_P_00004_LEFT_MLO/1.3.6.1.4.1.9590.100.1.2.272600286511817402806912403581910920939/1.3.6.1.4.1.9590.100.1.2.295360926313492745441868049270168300162/000000.dcm\n",
       "4    Mass-Training_P_00004_RIGHT_MLO/1.3.6.1.4.1.9590.100.1.2.174047308712169195014610267031196524486/1.3.6.1.4.1.9590.100.1.2.410524754913057908920631336070876889890/000000.dcm\n",
       "Name: image file path, dtype: object"
      ]
     },
     "execution_count": 24,
     "metadata": {},
     "output_type": "execute_result"
    }
   ],
   "source": [
    "mass_df.head()['image file path']"
   ]
  },
  {
   "cell_type": "code",
   "execution_count": 25,
   "id": "921634c9",
   "metadata": {},
   "outputs": [
    {
     "name": "stdout",
     "output_type": "stream",
     "text": [
      "Loaded dicom_info.csv with 10237 entries\n",
      "UID→JPEG mapping created for 6774 UIDs\n",
      "Final dataset has 1636 rows with valid JPEG image paths\n",
      "                                                                                                                                                                image file path  \\\n",
      "0    Mass-Training_P_00001_LEFT_CC/1.3.6.1.4.1.9590.100.1.2.422112722213189649807611434612228974994/1.3.6.1.4.1.9590.100.1.2.342386194811267636608694132590482924515/000000.dcm   \n",
      "1   Mass-Training_P_00001_LEFT_MLO/1.3.6.1.4.1.9590.100.1.2.319478999311971442426185353560182990988/1.3.6.1.4.1.9590.100.1.2.359308329312397897125630708681441180834/000000.dcm   \n",
      "2     Mass-Training_P_00004_LEFT_CC/1.3.6.1.4.1.9590.100.1.2.347107867812656628709864319310977895697/1.3.6.1.4.1.9590.100.1.2.89180046211022531834352631483669346540/000000.dcm   \n",
      "3   Mass-Training_P_00004_LEFT_MLO/1.3.6.1.4.1.9590.100.1.2.272600286511817402806912403581910920939/1.3.6.1.4.1.9590.100.1.2.295360926313492745441868049270168300162/000000.dcm   \n",
      "4  Mass-Training_P_00004_RIGHT_MLO/1.3.6.1.4.1.9590.100.1.2.174047308712169195014610267031196524486/1.3.6.1.4.1.9590.100.1.2.410524754913057908920631336070876889890/000000.dcm   \n",
      "\n",
      "                                                                                 jpeg_path  \n",
      "0  archive/jpeg/1.3.6.1.4.1.9590.100.1.2.342386194811267636608694132590482924515/1-211.jpg  \n",
      "1  archive/jpeg/1.3.6.1.4.1.9590.100.1.2.359308329312397897125630708681441180834/1-207.jpg  \n",
      "2   archive/jpeg/1.3.6.1.4.1.9590.100.1.2.89180046211022531834352631483669346540/1-250.jpg  \n",
      "3  archive/jpeg/1.3.6.1.4.1.9590.100.1.2.295360926313492745441868049270168300162/1-067.jpg  \n",
      "4  archive/jpeg/1.3.6.1.4.1.9590.100.1.2.410524754913057908920631336070876889890/1-056.jpg  \n"
     ]
    }
   ],
   "source": [
    "import pandas as pd\n",
    "import os\n",
    "\n",
    "# Load dicom_info.csv\n",
    "dicom_info_path = \"archive/csv/dicom_info.csv\"\n",
    "dicom_info = pd.read_csv(dicom_info_path)\n",
    "print(f\"Loaded dicom_info.csv with {len(dicom_info)} entries\")\n",
    "\n",
    "# Step 1: Build UID → JPEG path map\n",
    "uid_to_jpeg_map = {}\n",
    "for _, row in dicom_info.iterrows():\n",
    "    dicom_path = row.get('file_path', '')\n",
    "    jpeg_path = row.get('image_path', '')\n",
    "    \n",
    "    if isinstance(dicom_path, str) and isinstance(jpeg_path, str) and dicom_path and jpeg_path:\n",
    "        parts = dicom_path.split('/')\n",
    "        if len(parts) >= 3 and 'dicom' in dicom_path:\n",
    "            uid = parts[2]\n",
    "            local_jpeg_path = jpeg_path.replace(\"CBIS-DDSM/jpeg/\", \"archive/jpeg/\")\n",
    "            uid_to_jpeg_map[uid] = local_jpeg_path\n",
    "\n",
    "print(f\"UID→JPEG mapping created for {len(uid_to_jpeg_map)} UIDs\")\n",
    "\n",
    "# Step 2: Mapping function\n",
    "def extract_uid_and_map_to_jpeg(image_file_path):\n",
    "    if not isinstance(image_file_path, str):\n",
    "        return None\n",
    "    parts = image_file_path.split('/')\n",
    "    uids = parts[1:3] if len(parts) >= 3 else []\n",
    "    for uid in uids:\n",
    "        if uid in uid_to_jpeg_map:\n",
    "            return uid_to_jpeg_map[uid]\n",
    "    return None\n",
    "\n",
    "# Step 3: Apply mapping to your metadata\n",
    "mass_df['jpeg_path'] = mass_df['image file path'].apply(extract_uid_and_map_to_jpeg)\n",
    "\n",
    "# Step 4: Drop any failed matches\n",
    "mass_df = mass_df.dropna(subset=['jpeg_path'])\n",
    "\n",
    "print(f\"Final dataset has {len(mass_df)} rows with valid JPEG image paths\")\n",
    "print(mass_df[['image file path', 'jpeg_path']].head())\n"
   ]
  },
  {
   "cell_type": "code",
   "execution_count": 26,
   "id": "a5f35cd9",
   "metadata": {},
   "outputs": [
    {
     "name": "stdout",
     "output_type": "stream",
     "text": [
      "CUDA Available: True\n",
      "GPU Name: NVIDIA GeForce RTX 4070 SUPER\n"
     ]
    }
   ],
   "source": [
    "import torch\n",
    "print(\"CUDA Available:\", torch.cuda.is_available())\n",
    "print(\"GPU Name:\", torch.cuda.get_device_name(0))"
   ]
  },
  {
   "cell_type": "code",
   "execution_count": 27,
   "id": "23967070",
   "metadata": {},
   "outputs": [
    {
     "name": "stdout",
     "output_type": "stream",
     "text": [
      "                                                                                 jpeg_path\n",
      "0  archive/jpeg/1.3.6.1.4.1.9590.100.1.2.342386194811267636608694132590482924515/1-211.jpg\n",
      "1  archive/jpeg/1.3.6.1.4.1.9590.100.1.2.359308329312397897125630708681441180834/1-207.jpg\n",
      "2   archive/jpeg/1.3.6.1.4.1.9590.100.1.2.89180046211022531834352631483669346540/1-250.jpg\n",
      "3  archive/jpeg/1.3.6.1.4.1.9590.100.1.2.295360926313492745441868049270168300162/1-067.jpg\n",
      "4  archive/jpeg/1.3.6.1.4.1.9590.100.1.2.410524754913057908920631336070876889890/1-056.jpg\n"
     ]
    }
   ],
   "source": [
    "# Set display width so full strings in DataFrame are shown\n",
    "pd.set_option('display.max_colwidth', None)\n",
    "\n",
    "# Then print the head\n",
    "print(mass_df[['jpeg_path']].head())"
   ]
  },
  {
   "cell_type": "code",
   "execution_count": 28,
   "id": "724321a9",
   "metadata": {},
   "outputs": [
    {
     "name": "stderr",
     "output_type": "stream",
     "text": [
      "c:\\Users\\azizi\\anaconda3\\envs\\a510_project\\lib\\site-packages\\torchvision\\models\\_utils.py:208: UserWarning: The parameter 'pretrained' is deprecated since 0.13 and may be removed in the future, please use 'weights' instead.\n",
      "  warnings.warn(\n",
      "c:\\Users\\azizi\\anaconda3\\envs\\a510_project\\lib\\site-packages\\torchvision\\models\\_utils.py:223: UserWarning: Arguments other than a weight enum or `None` for 'weights' are deprecated since 0.13 and may be removed in the future. The current behavior is equivalent to passing `weights=ResNet18_Weights.IMAGENET1K_V1`. You can also use `weights=ResNet18_Weights.DEFAULT` to get the most up-to-date weights.\n",
      "  warnings.warn(msg)\n",
      "Vectorizing images: 100%|██████████| 1636/1636 [02:38<00:00, 10.31it/s]\n"
     ]
    },
    {
     "name": "stdout",
     "output_type": "stream",
     "text": [
      "Vectorized images shape: (1636, 512)\n",
      "Saved image vectors to image_vectors_resnet18.csv\n"
     ]
    }
   ],
   "source": [
    "import torch\n",
    "import torchvision.models as models\n",
    "import torchvision.transforms as transforms\n",
    "from PIL import Image\n",
    "from tqdm import tqdm\n",
    "import numpy as np\n",
    "\n",
    "# Step 1: Load pretrained ResNet-18 and remove final classification layer\n",
    "resnet = models.resnet18(pretrained=True)\n",
    "resnet = torch.nn.Sequential(*list(resnet.children())[:-1])  # Remove last FC layer\n",
    "resnet.eval()\n",
    "\n",
    "# Step 2: Use GPU if available\n",
    "device = torch.device(\"cuda\" if torch.cuda.is_available() else \"cpu\")\n",
    "resnet.to(device)\n",
    "\n",
    "# Step 3: Image preprocessing\n",
    "transform = transforms.Compose([\n",
    "    transforms.Resize((224, 224)),\n",
    "    transforms.ToTensor(),\n",
    "    transforms.Normalize(mean=[0.485, 0.456, 0.406],  # ImageNet stats\n",
    "                         std=[0.229, 0.224, 0.225])\n",
    "])\n",
    "\n",
    "# Step 4: Prepare storage for image vectors\n",
    "image_vectors = []\n",
    "\n",
    "# Step 5: Loop through each JPEG path\n",
    "for img_path in tqdm(mass_df['jpeg_path'], desc=\"Vectorizing images\"):\n",
    "    try:\n",
    "        # Open and convert image to RGB\n",
    "        img = Image.open(img_path).convert('RGB')\n",
    "        img_tensor = transform(img).unsqueeze(0).to(device)  # Add batch dim\n",
    "\n",
    "        # Forward pass through ResNet\n",
    "        with torch.no_grad():\n",
    "            vector = resnet(img_tensor).squeeze().cpu().numpy()  # Flatten\n",
    "\n",
    "        image_vectors.append(vector)\n",
    "\n",
    "    except Exception as e:\n",
    "        print(f\"Error processing {img_path}: {e}\")\n",
    "        image_vectors.append(np.zeros(512))  # Fallback vector for errors\n",
    "\n",
    "# Step 6: Convert to NumPy array\n",
    "image_vectors = np.array(image_vectors)\n",
    "print(f\"Vectorized images shape: {image_vectors.shape}\")  # (n_samples, 512)\n",
    "\n",
    "# Save to CSV\n",
    "np.savetxt(\"image_vectors_resnet18.csv\", image_vectors, delimiter=\",\")\n",
    "print(\"Saved image vectors to image_vectors_resnet18.csv\")\n"
   ]
  },
  {
   "cell_type": "code",
   "execution_count": 29,
   "id": "0fe41262",
   "metadata": {},
   "outputs": [
    {
     "name": "stdout",
     "output_type": "stream",
     "text": [
      "Combined DataFrame shape: (1636, 519)\n",
      "                                                                                                                                                               image file path  \\\n",
      "0   Mass-Training_P_00001_LEFT_CC/1.3.6.1.4.1.9590.100.1.2.422112722213189649807611434612228974994/1.3.6.1.4.1.9590.100.1.2.342386194811267636608694132590482924515/000000.dcm   \n",
      "1  Mass-Training_P_00001_LEFT_MLO/1.3.6.1.4.1.9590.100.1.2.319478999311971442426185353560182990988/1.3.6.1.4.1.9590.100.1.2.359308329312397897125630708681441180834/000000.dcm   \n",
      "\n",
      "   pathology  breast_density  left or right breast  mass margins  subtlety  \\\n",
      "0          1               3                     0            18         4   \n",
      "1          1               3                     0            18         4   \n",
      "\n",
      "                                                                                 jpeg_path  \\\n",
      "0  archive/jpeg/1.3.6.1.4.1.9590.100.1.2.342386194811267636608694132590482924515/1-211.jpg   \n",
      "1  archive/jpeg/1.3.6.1.4.1.9590.100.1.2.359308329312397897125630708681441180834/1-207.jpg   \n",
      "\n",
      "          0         1         2  ...       502       503       504       505  \\\n",
      "0  0.675198  0.997312  0.481899  ...  0.225165  0.468365  0.014020  1.836439   \n",
      "1  0.075999  0.413754  0.418423  ...  0.741882  0.338872  0.146998  2.271186   \n",
      "\n",
      "        506       507       508       509       510       511  \n",
      "0  1.952172  0.652427  0.969208  0.370804  0.642806  0.694666  \n",
      "1  2.354442  0.815053  1.478603  1.083106  0.899264  0.601539  \n",
      "\n",
      "[2 rows x 519 columns]\n"
     ]
    }
   ],
   "source": [
    "import pandas as pd\n",
    "\n",
    "# Load image vectors (1634 rows × 512 columns)\n",
    "image_vectors = pd.read_csv(\"image_vectors_resnet18.csv\", header=None)\n",
    "\n",
    "# Reset index just in case to align properly\n",
    "mass_df = mass_df.reset_index(drop=True)\n",
    "\n",
    "# Combine horizontally: metadata + image vectors\n",
    "combined_df = pd.concat([mass_df, image_vectors], axis=1)\n",
    "\n",
    "# Optionally save the full merged dataset\n",
    "combined_df.to_csv(\"combined_metadata_and_image_vectors.csv\", index=False)\n",
    "\n",
    "print(\"Combined DataFrame shape:\", combined_df.shape)\n",
    "print(combined_df.head(2))\n"
   ]
  },
  {
   "cell_type": "code",
   "execution_count": 30,
   "id": "50e95f33",
   "metadata": {},
   "outputs": [
    {
     "data": {
      "image/png": "[encoded data removed]",
      "text/plain": [
       "<Figure size 600x400 with 1 Axes>"
      ]
     },
     "metadata": {},
     "output_type": "display_data"
    }
   ],
   "source": [
    "import matplotlib.pyplot as plt\n",
    "import seaborn as sns\n",
    "\n",
    "# Count of each class\n",
    "class_counts = combined_df['pathology'].value_counts()\n",
    "\n",
    "# Plot\n",
    "plt.figure(figsize=(6, 4))\n",
    "sns.barplot(x=class_counts.index, y=class_counts.values, palette=\"Set2\")\n",
    "\n",
    "# Add labels and title\n",
    "plt.xticks([0, 1], ['Benign (0)', 'Malignant (1)'])\n",
    "plt.ylabel('Count')\n",
    "plt.title('Class Distribution of Pathology')\n",
    "\n",
    "# Show values on top\n",
    "for i, v in enumerate(class_counts.values):\n",
    "    plt.text(i, v + 10, str(v), ha='center', fontweight='bold')\n",
    "\n",
    "plt.tight_layout()\n",
    "plt.show()"
   ]
  },
  {
   "cell_type": "code",
   "execution_count": 31,
   "id": "d11c9fb5",
   "metadata": {},
   "outputs": [],
   "source": [
    "# All features (drop non-numeric columns like paths)\n",
    "X = combined_df.drop(columns=['pathology', 'image file path', 'jpeg_path'])\n",
    "\n",
    "# Fix column name types\n",
    "X.columns = X.columns.astype(str)\n",
    "\n",
    "# Target variable\n",
    "y = combined_df['pathology']"
   ]
  },
  {
   "cell_type": "code",
   "execution_count": 32,
   "id": "2edba314",
   "metadata": {},
   "outputs": [],
   "source": [
    "from sklearn.model_selection import train_test_split\n",
    "\n",
    "# 80% train, 20% test\n",
    "X_train, X_test, y_train, y_test = train_test_split(\n",
    "    X, y, test_size=0.2, random_state=42, stratify=y\n",
    ")\n"
   ]
  },
  {
   "cell_type": "code",
   "execution_count": 33,
   "id": "edd40665",
   "metadata": {},
   "outputs": [
    {
     "data": {
      "text/html": [
       "<style>#sk-container-id-3 {color: black;}#sk-container-id-3 pre{padding: 0;}#sk-container-id-3 div.sk-toggleable {background-color: white;}#sk-container-id-3 label.sk-toggleable__label {cursor: pointer;display: block;width: 100%;margin-bottom: 0;padding: 0.3em;box-sizing: border-box;text-align: center;}#sk-container-id-3 label.sk-toggleable__label-arrow:before {content: \"▸\";float: left;margin-right: 0.25em;color: #696969;}#sk-container-id-3 label.sk-toggleable__label-arrow:hover:before {color: black;}#sk-container-id-3 div.sk-estimator:hover label.sk-toggleable__label-arrow:before {color: black;}#sk-container-id-3 div.sk-toggleable__content {max-height: 0;max-width: 0;overflow: hidden;text-align: left;background-color: #f0f8ff;}#sk-container-id-3 div.sk-toggleable__content pre {margin: 0.2em;color: black;border-radius: 0.25em;background-color: #f0f8ff;}#sk-container-id-3 input.sk-toggleable__control:checked~div.sk-toggleable__content {max-height: 200px;max-width: 100%;overflow: auto;}#sk-container-id-3 input.sk-toggleable__control:checked~label.sk-toggleable__label-arrow:before {content: \"▾\";}#sk-container-id-3 div.sk-estimator input.sk-toggleable__control:checked~label.sk-toggleable__label {background-color: #d4ebff;}#sk-container-id-3 div.sk-label input.sk-toggleable__control:checked~label.sk-toggleable__label {background-color: #d4ebff;}#sk-container-id-3 input.sk-hidden--visually {border: 0;clip: rect(1px 1px 1px 1px);clip: rect(1px, 1px, 1px, 1px);height: 1px;margin: -1px;overflow: hidden;padding: 0;position: absolute;width: 1px;}#sk-container-id-3 div.sk-estimator {font-family: monospace;background-color: #f0f8ff;border: 1px dotted black;border-radius: 0.25em;box-sizing: border-box;margin-bottom: 0.5em;}#sk-container-id-3 div.sk-estimator:hover {background-color: #d4ebff;}#sk-container-id-3 div.sk-parallel-item::after {content: \"\";width: 100%;border-bottom: 1px solid gray;flex-grow: 1;}#sk-container-id-3 div.sk-label:hover label.sk-toggleable__label {background-color: #d4ebff;}#sk-container-id-3 div.sk-serial::before {content: \"\";position: absolute;border-left: 1px solid gray;box-sizing: border-box;top: 0;bottom: 0;left: 50%;z-index: 0;}#sk-container-id-3 div.sk-serial {display: flex;flex-direction: column;align-items: center;background-color: white;padding-right: 0.2em;padding-left: 0.2em;position: relative;}#sk-container-id-3 div.sk-item {position: relative;z-index: 1;}#sk-container-id-3 div.sk-parallel {display: flex;align-items: stretch;justify-content: center;background-color: white;position: relative;}#sk-container-id-3 div.sk-item::before, #sk-container-id-3 div.sk-parallel-item::before {content: \"\";position: absolute;border-left: 1px solid gray;box-sizing: border-box;top: 0;bottom: 0;left: 50%;z-index: -1;}#sk-container-id-3 div.sk-parallel-item {display: flex;flex-direction: column;z-index: 1;position: relative;background-color: white;}#sk-container-id-3 div.sk-parallel-item:first-child::after {align-self: flex-end;width: 50%;}#sk-container-id-3 div.sk-parallel-item:last-child::after {align-self: flex-start;width: 50%;}#sk-container-id-3 div.sk-parallel-item:only-child::after {width: 0;}#sk-container-id-3 div.sk-dashed-wrapped {border: 1px dashed gray;margin: 0 0.4em 0.5em 0.4em;box-sizing: border-box;padding-bottom: 0.4em;background-color: white;}#sk-container-id-3 div.sk-label label {font-family: monospace;font-weight: bold;display: inline-block;line-height: 1.2em;}#sk-container-id-3 div.sk-label-container {text-align: center;}#sk-container-id-3 div.sk-container {/* jupyter's `normalize.less` sets `[hidden] { display: none; }` but bootstrap.min.css set `[hidden] { display: none !important; }` so we also need the `!important` here to be able to override the default hidden behavior on the sphinx rendered scikit-learn.org. See: https://github.com/scikit-learn/scikit-learn/issues/21755 */display: inline-block !important;position: relative;}#sk-container-id-3 div.sk-text-repr-fallback {display: none;}</style><div id=\"sk-container-id-3\" class=\"sk-top-container\"><div class=\"sk-text-repr-fallback\"><pre>RandomForestClassifier(random_state=42)</pre><b>In a Jupyter environment, please rerun this cell to show the HTML representation or trust the notebook. <br />On GitHub, the HTML representation is unable to render, please try loading this page with nbviewer.org.</b></div><div class=\"sk-container\" hidden><div class=\"sk-item\"><div class=\"sk-estimator sk-toggleable\"><input class=\"sk-toggleable__control sk-hidden--visually\" id=\"sk-estimator-id-3\" type=\"checkbox\" checked><label for=\"sk-estimator-id-3\" class=\"sk-toggleable__label sk-toggleable__label-arrow\">RandomForestClassifier</label><div class=\"sk-toggleable__content\"><pre>RandomForestClassifier(random_state=42)</pre></div></div></div></div></div>"
      ],
      "text/plain": [
       "RandomForestClassifier(random_state=42)"
      ]
     },
     "execution_count": 33,
     "metadata": {},
     "output_type": "execute_result"
    }
   ],
   "source": [
    "from sklearn.ensemble import RandomForestClassifier\n",
    "\n",
    "# Create and train the model\n",
    "rf_model = RandomForestClassifier(n_estimators=100, random_state=42)\n",
    "rf_model.fit(X_train, y_train)\n"
   ]
  },
  {
   "cell_type": "code",
   "execution_count": 34,
   "id": "dfa0baa7",
   "metadata": {},
   "outputs": [],
   "source": [
    "# Make Predictions\n",
    "y_pred = rf_model.predict(X_test)\n"
   ]
  },
  {
   "cell_type": "code",
   "execution_count": 35,
   "id": "f2530245",
   "metadata": {},
   "outputs": [
    {
     "name": "stdout",
     "output_type": "stream",
     "text": [
      "Accuracy: 0.7652439024390244\n",
      "Confusion Matrix:\n",
      " [[144  29]\n",
      " [ 48 107]]\n",
      "Classification Report:\n",
      "               precision    recall  f1-score   support\n",
      "\n",
      "           0       0.75      0.83      0.79       173\n",
      "           1       0.79      0.69      0.74       155\n",
      "\n",
      "    accuracy                           0.77       328\n",
      "   macro avg       0.77      0.76      0.76       328\n",
      "weighted avg       0.77      0.77      0.76       328\n",
      "\n"
     ]
    }
   ],
   "source": [
    "# Evaluate the model\n",
    "\n",
    "from sklearn.metrics import accuracy_score, confusion_matrix, classification_report\n",
    "\n",
    "# Accuracy\n",
    "print(\"Accuracy:\", accuracy_score(y_test, y_pred))\n",
    "\n",
    "# Confusion Matrix\n",
    "print(\"Confusion Matrix:\\n\", confusion_matrix(y_test, y_pred))\n",
    "\n",
    "# Detailed report\n",
    "print(\"Classification Report:\\n\", classification_report(y_test, y_pred))"
   ]
  }
 ],
 "metadata": {
  "kernelspec": {
   "display_name": "a510_project",
   "language": "python",
   "name": "python3"
  },
  "language_info": {
   "codemirror_mode": {
    "name": "ipython",
    "version": 3
   },
   "file_extension": ".py",
   "mimetype": "text/x-python",
   "name": "python",
   "nbconvert_exporter": "python",
   "pygments_lexer": "ipython3",
   "version": "3.10.18"
  }
 },
 "nbformat": 4,
 "nbformat_minor": 5
}
